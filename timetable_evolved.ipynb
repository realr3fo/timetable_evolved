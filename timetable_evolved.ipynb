{
 "cells": [
  {
   "cell_type": "markdown",
   "metadata": {},
   "source": [
    "# Hard and soft constraints"
   ]
  },
  {
   "cell_type": "markdown",
   "metadata": {},
   "source": [
    "### Hard constraints\n",
    "These are constraints that must be pursued during the search and without meeting these constraints, the solution is not true. These constraints are:\n",
    "- All classes must be scheduled\n",
    "- No classes or lecturers are allocated twice at same time\n",
    "\n",
    "### Soft constraints\n",
    "These constraints that are not mandatory for a solution must be pursued, but the quality of the courses schedule is decided by following these constraints\n",
    "- classes scheduled within preferred hours\n",
    "- Avoid long runs of consecutive lectures"
   ]
  },
  {
   "cell_type": "markdown",
   "metadata": {},
   "source": [
    "# Initialization"
   ]
  },
  {
   "cell_type": "code",
   "execution_count": 1228,
   "metadata": {},
   "outputs": [],
   "source": [
    "def initialize(students, courses, day_times, prof_input):\n",
    "    initialized_data = {}\n",
    "    initialized_data[\"stgs\"] = students\n",
    "    initialized_data[\"courses\"] = courses\n",
    "    initialized_data[\"days\"] = [i for i in range(day_times[\"day\"])]\n",
    "    initialized_data[\"periods\"] = [i for i in range(day_times[\"period\"])]\n",
    "    initialized_data[\"profs\"] = prof_input\n",
    "    return initialized_data"
   ]
  },
  {
   "cell_type": "code",
   "execution_count": 1229,
   "metadata": {},
   "outputs": [],
   "source": [
    "# Fitness function\n",
    "def fitness_function(matrix, data):\n",
    "    stgs = [ key for key in data[\"stgs\"].keys()]\n",
    "    courses = [ key for key in data[\"courses\"].keys()]\n",
    "    profs = [key for key in data[\"profs\"].keys()]\n",
    "    stg_checker = {}\n",
    "    course_checker = {}\n",
    "    prof_checker = {}\n",
    "    for stg in stgs:\n",
    "        stg_checker[stg] = []\n",
    "    for prof in profs:\n",
    "        prof_checker[prof] = []\n",
    "    for course in courses:\n",
    "        course_checker[course] = 0\n",
    "\n",
    "    hard_penalty_counter = 0\n",
    "    for chromosome in matrix:\n",
    "        stg = chromosome[\"stg\"]\n",
    "        course = chromosome[\"course\"]\n",
    "        prof = chromosome[\"prof\"]\n",
    "        day = chromosome[\"day\"]\n",
    "        period = chromosome[\"period\"]\n",
    "        course_checker[course] += 1\n",
    "        if course not in data[\"stgs\"][stg][\"course_list\"]:\n",
    "            hard_penalty_counter += 1\n",
    "        if prof not in data[\"courses\"][course][\"prof_list\"]:\n",
    "            hard_penalty_counter += 1\n",
    "        timeslot = [day, period]\n",
    "        if timeslot not in stg_checker[stg]:\n",
    "            stg_checker[stg].append(timeslot)\n",
    "        else:\n",
    "            hard_penalty_counter += 1\n",
    "        if timeslot not in prof_checker[prof]:\n",
    "            prof_checker[prof].append(timeslot)\n",
    "        else:\n",
    "            hard_penalty_counter += 1\n",
    "        if timeslot not in data[\"profs\"][prof][\"availability_list\"]:\n",
    "            hard_penalty_counter += 1\n",
    "    for course_key in course_checker.keys():\n",
    "        if course_checker[course_key] != data[\"courses\"][course_key][\"hour\"]:\n",
    "            hard_penalty_counter += 1\n",
    "    for stg in stgs:\n",
    "        if len(stg_checker[stg]) != data[\"stgs\"][stg][\"hour\"]:\n",
    "            hard_penalty_counter += 1\n",
    "    \n",
    "    # Check for soft constraints\n",
    "    soft_penalty_counter = 0\n",
    "\n",
    "    hard_penalty_resolved = True if hard_penalty_counter == 0 else False\n",
    "\n",
    "    result = 1/(1+(soft_penalty_counter + hard_penalty_counter))\n",
    "    return result, hard_penalty_resolved"
   ]
  },
  {
   "cell_type": "code",
   "execution_count": 1230,
   "metadata": {},
   "outputs": [
    {
     "name": "stdout",
     "output_type": "stream",
     "text": [
      "{'stgs': {0: {'hour': 4, 'course_list': [0]}, 1: {'hour': 3, 'course_list': [1]}}, 'courses': {0: {'hour': 4, 'prof_list': [0, 1]}, 1: {'hour': 3, 'prof_list': [0, 1]}}, 'days': [0, 1, 2, 3, 4], 'periods': [0, 1, 2, 3, 4, 5, 6, 7], 'profs': {0: {'availability_list': [[0, 0], [0, 1], [0, 2], [0, 3], [0, 4], [0, 5], [0, 6], [0, 7], [1, 0], [1, 1], [1, 2], [1, 3], [1, 4], [1, 5], [1, 6], [1, 7], [2, 0], [2, 1], [2, 2], [2, 3], [2, 4], [2, 5], [2, 6], [2, 7], [3, 0], [3, 1], [3, 2], [3, 3], [3, 4], [3, 5], [3, 6], [3, 7], [4, 0], [4, 1], [4, 2], [4, 3], [4, 4], [4, 5], [4, 6], [4, 7]]}, 1: {'availability_list': [[0, 0], [0, 1], [0, 2], [0, 3], [0, 4], [0, 5], [0, 6], [0, 7], [1, 0], [1, 1], [1, 2], [1, 3], [1, 4], [1, 5], [1, 6], [1, 7], [2, 0], [2, 1], [2, 2], [2, 3], [2, 4], [2, 5], [2, 6], [2, 7], [3, 0], [3, 1], [3, 2], [3, 3], [3, 4], [3, 5], [3, 6], [3, 7], [4, 0], [4, 1], [4, 2], [4, 3], [4, 4], [4, 5], [4, 6], [4, 7]]}}}\n"
     ]
    }
   ],
   "source": [
    "# Code for initialization based on input\n",
    "# Number of population = number student gouweekly hours\n",
    "student_input = {0: {\"hour\": 4, \"course_list\": [0]}, 1: {\"hour\": 3, \"course_list\": [1]}}\n",
    "course_input = {0: {\"hour\": 4, \"prof_list\": [0, 1]}, 1: {\"hour\": 3, \"prof_list\": [0, 1]}}\n",
    "day_time_availability = {\"day\": 5, \"period\": 8}\n",
    "# [[day, period]]\n",
    "prof_input = {0: {\"availability_list\": [[0,0], [0,1], [0,2], [0,3], [0,4], [0,5], [0,6], [0,7],[1,0], [1,1], [1,2], [1,3], [1,4], [1,5], [1,6], [1,7],[2,0], [2,1], [2,2], [2,3], [2,4], [2,5], [2,6], [2,7], [3,0], [3,1], [3,2], [3,3], [3,4], [3,5], [3,6], [3,7],[4,0], [4,1], [4,2], [4,3], [4,4], [4,5], [4,6], [4,7]] },\n",
    "1: {\"availability_list\": [[0,0], [0,1], [0,2], [0,3], [0,4], [0,5], [0,6], [0,7],[1,0], [1,1], [1,2], [1,3], [1,4], [1,5], [1,6], [1,7],[2,0], [2,1], [2,2], [2,3], [2,4], [2,5], [2,6], [2,7], [3,0], [3,1], [3,2], [3,3], [3,4], [3,5], [3,6], [3,7],[4,0], [4,1], [4,2], [4,3], [4,4], [4,5], [4,6], [4,7]]}}\n",
    "initialized_data = initialize(student_input, course_input, day_time_availability, prof_input)\n",
    "print(initialized_data)"
   ]
  },
  {
   "cell_type": "code",
   "execution_count": 1231,
   "metadata": {},
   "outputs": [],
   "source": [
    "stgs = [ key for key in initialized_data[\"stgs\"].keys()]\n",
    "courses = [ key for key in initialized_data[\"courses\"].keys()]\n",
    "profs = [key for key in initialized_data[\"profs\"].keys()]\n",
    "days = initialized_data[\"days\"]\n",
    "periods = initialized_data[\"periods\"]"
   ]
  },
  {
   "cell_type": "code",
   "execution_count": 1232,
   "metadata": {},
   "outputs": [
    {
     "name": "stdout",
     "output_type": "stream",
     "text": [
      "(1.0, True)\n"
     ]
    }
   ],
   "source": [
    "# Initial individual with fitness value = 1\n",
    "# one of possible solutions: \n",
    "chromosome_0 = {\"stg\": stgs[0], \"course\": courses[0], \"prof\": profs[0], \"day\": days[0], \"period\": periods[0]}\n",
    "chromosome_1 = {\"stg\": stgs[0], \"course\": courses[0], \"prof\": profs[0], \"day\": days[0], \"period\": periods[1]}\n",
    "chromosome_2 = {\"stg\": stgs[0], \"course\": courses[0], \"prof\": profs[0], \"day\": days[0], \"period\": periods[2]}\n",
    "chromosome_3 = {\"stg\": stgs[0], \"course\": courses[0], \"prof\": profs[0], \"day\": days[0], \"period\": periods[3]}\n",
    "chromosome_4 = {\"stg\": stgs[1], \"course\": courses[1], \"prof\": profs[1], \"day\": days[3], \"period\": periods[0]}\n",
    "chromosome_5 = {\"stg\": stgs[1], \"course\": courses[1], \"prof\": profs[1], \"day\": days[3], \"period\": periods[1]}\n",
    "chromosome_6 = {\"stg\": stgs[1], \"course\": courses[1], \"prof\": profs[1], \"day\": days[3], \"period\": periods[2]}\n",
    "individual_0 = [chromosome_0, chromosome_1, chromosome_2, chromosome_3, chromosome_4, chromosome_5, chromosome_6]\n",
    "print(fitness_function(individual_0, initialized_data))"
   ]
  },
  {
   "cell_type": "code",
   "execution_count": 1233,
   "metadata": {},
   "outputs": [],
   "source": [
    "import numpy as np\n",
    "from numpy import random\n",
    "\n",
    "# Automating population generation\n",
    "def generate_population(n, input_data):\n",
    "    stgs = [ key for key in input_data[\"stgs\"].keys()]\n",
    "    courses = [ key for key in input_data[\"courses\"].keys()]\n",
    "    profs = [key for key in input_data[\"profs\"].keys()]\n",
    "    days = input_data[\"days\"]\n",
    "    periods = input_data[\"periods\"]\n",
    "    chromosome_length = 0\n",
    "    for stg in stgs:\n",
    "        chromosome_length += input_data[\"stgs\"][stg][\"hour\"]\n",
    "\n",
    "    population = []\n",
    "    for _ in range(n):\n",
    "        cur_individual = []\n",
    "        for _ in range(chromosome_length):\n",
    "            stg = random.randint(len(stgs))\n",
    "            course = random.randint(len(courses))\n",
    "            prof = random.randint(len(profs))\n",
    "            day = random.randint(len(days))\n",
    "            period = random.randint(len(periods))\n",
    "            cur_chromosome = {\"stg\": stg, \"course\": course, \"prof\": prof,\n",
    "            \"day\": day, \"period\": period}\n",
    "            cur_individual.append(cur_chromosome)\n",
    "        population.append(cur_individual)\n",
    "    return population"
   ]
  },
  {
   "cell_type": "code",
   "execution_count": 1234,
   "metadata": {},
   "outputs": [],
   "source": [
    "# Selection algorithm tournament selection, uniform probability\n",
    "def tournament_selection(population_fit):\n",
    "    candidate_1 = random.randint(len(population_fit))\n",
    "    candidate_2 = random.randint(len(population_fit))\n",
    "    while candidate_1 == candidate_2:\n",
    "        candidate_2 = random.randint(len(population_fit))\n",
    "    if population_fit[candidate_1] > population_fit[candidate_2]:\n",
    "        return candidate_1\n",
    "    else:\n",
    "        return candidate_2"
   ]
  },
  {
   "cell_type": "code",
   "execution_count": 1235,
   "metadata": {},
   "outputs": [],
   "source": [
    "# #One point crossover from index 1 to last index\n",
    "def one_point_crossover(parent_1, parent_2, crossover_rate=0.8):\n",
    "    crossover_point = random.randint(1, len(parent_1))\n",
    "    child_1 = parent_1.copy()\n",
    "    if (random.random() < crossover_rate):\n",
    "        child_1[crossover_point:] = parent_2[crossover_point:]\n",
    "    return child_1"
   ]
  },
  {
   "cell_type": "code",
   "execution_count": 1236,
   "metadata": {},
   "outputs": [],
   "source": [
    "# Mutation by Random resetting\n",
    "def mutation(individual, input_data, mutation_rate=0.02):\n",
    "    stgs = [ key for key in input_data[\"stgs\"].keys()]\n",
    "    courses = [ key for key in input_data[\"courses\"].keys()]\n",
    "    profs = [key for key in input_data[\"profs\"].keys()]\n",
    "    days = input_data[\"days\"]\n",
    "    periods = input_data[\"periods\"]\n",
    "    # mutate_index = random.randint(len(individual))\n",
    "    for mutate_index in range(len(individual)):\n",
    "        mutation_prob = random.random()\n",
    "        if (mutation_prob < mutation_rate):\n",
    "            mutate_attr = random.randint(len(individual))\n",
    "            if mutate_attr == 0:\n",
    "                individual[mutate_index][\"stg\"] = random.randint(len(stgs))\n",
    "            if mutate_attr == 1:\n",
    "                individual[mutate_index][\"course\"] = random.randint(len(courses))\n",
    "            if mutate_attr == 2:\n",
    "                individual[mutate_index][\"prof\"] = random.randint(len(profs))\n",
    "            if mutate_attr == 3:\n",
    "                individual[mutate_index][\"day\"] = random.randint(len(days))\n",
    "            if mutate_attr == 4:\n",
    "                individual[mutate_index][\"period\"] = random.randint(len(periods))\n",
    "    return individual"
   ]
  },
  {
   "cell_type": "code",
   "execution_count": 1237,
   "metadata": {},
   "outputs": [],
   "source": [
    "# selection by ranking\n",
    "# choose top 0.1 and then reproduce until same length\n",
    "def get_new_population_selection_by_ranking(population, fitness_values, data):\n",
    "    zipped_population = [(x,y) for x,y in zip(population, fitness_values)]\n",
    "    sorted_population = sorted(zipped_population,key=lambda x: x[1], reverse=True)\n",
    "    population_length = len(population)\n",
    "    elites = sorted_population[:population_length//10]\n",
    "    elites = [x[0] for x in elites]\n",
    "    new_gen = []\n",
    "    for _ in range(population_length):\n",
    "        parent_x_idx = random.randint(len(elites))\n",
    "        parent_y_idx = random.randint(len(elites))\n",
    "        while parent_x_idx == parent_y_idx:\n",
    "            parent_y_idx = random.randint(len(elites))\n",
    "        parent_x, parent_y = elites[parent_x_idx], elites[parent_y_idx]\n",
    "        child_1= one_point_crossover(parent_x, parent_y)\n",
    "        mutated_1= mutation(child_1, data)\n",
    "        new_gen.append(mutated_1)\n",
    "    return new_gen"
   ]
  },
  {
   "cell_type": "code",
   "execution_count": 1238,
   "metadata": {},
   "outputs": [
    {
     "name": "stdout",
     "output_type": "stream",
     "text": [
      "0.25 0.12283802308802308\n"
     ]
    }
   ],
   "source": [
    "population_num = 100\n",
    "initial_population = generate_population(population_num, initialized_data)\n",
    "# print(population)\n",
    "initial_fitness_values = []\n",
    "for idx in range(len(initial_population)):\n",
    "    fitness_value, _ = fitness_function(initial_population[idx], initialized_data)\n",
    "    initial_fitness_values.append(fitness_value)\n",
    "print(np.max(initial_fitness_values), np.mean(initial_fitness_values))"
   ]
  },
  {
   "cell_type": "code",
   "execution_count": 1239,
   "metadata": {},
   "outputs": [
    {
     "name": "stdout",
     "output_type": "stream",
     "text": [
      "1 0.3333333333333333 0.17823412698412697\n",
      "SOLUTION! 2 [{'stg': 0, 'course': 0, 'prof': 0, 'day': 2, 'period': 5}, {'stg': 0, 'course': 0, 'prof': 1, 'day': 1, 'period': 7}, {'stg': 0, 'course': 0, 'prof': 0, 'day': 3, 'period': 0}, {'stg': 1, 'course': 1, 'prof': 1, 'day': 4, 'period': 2}, {'stg': 0, 'course': 0, 'prof': 0, 'day': 3, 'period': 5}, {'stg': 1, 'course': 1, 'prof': 1, 'day': 2, 'period': 4}, {'stg': 1, 'course': 1, 'prof': 0, 'day': 3, 'period': 3}]\n"
     ]
    }
   ],
   "source": [
    "counter = 0\n",
    "current_fitness_values = initial_fitness_values.copy()\n",
    "current_population = initial_population.copy()\n",
    "solution = {}\n",
    "while True:\n",
    "    new_population = get_new_population_selection_by_ranking(current_population, current_fitness_values, initialized_data)\n",
    "    new_fitness_values= []\n",
    "    for idx in range(len(new_population)):\n",
    "        fitness_value, _ = fitness_function(new_population[idx], initialized_data)\n",
    "        new_fitness_values.append(fitness_value)\n",
    "    for i in range(len(new_fitness_values)):\n",
    "        if new_fitness_values[i] > current_fitness_values[i]:\n",
    "            current_population[i] = new_population[i]\n",
    "            current_fitness_values[i] = new_fitness_values[i]\n",
    "    counter += 1\n",
    "    if 1 in new_fitness_values:\n",
    "        index = new_fitness_values.index(1)\n",
    "        print(\"SOLUTION!\", counter, new_population[index])\n",
    "        solution = new_population[index]\n",
    "        break\n",
    "    if counter % 1 == 0:\n",
    "        print(counter, np.max(current_fitness_values), np.mean(current_fitness_values))"
   ]
  },
  {
   "cell_type": "code",
   "execution_count": 1240,
   "metadata": {},
   "outputs": [
    {
     "name": "stdout",
     "output_type": "stream",
     "text": [
      "[{'stg': 0, 'course': 0, 'prof': 0, 'day': 2, 'period': 5}, {'stg': 0, 'course': 0, 'prof': 1, 'day': 1, 'period': 7}, {'stg': 0, 'course': 0, 'prof': 0, 'day': 3, 'period': 0}, {'stg': 1, 'course': 1, 'prof': 1, 'day': 4, 'period': 2}, {'stg': 0, 'course': 0, 'prof': 0, 'day': 3, 'period': 5}, {'stg': 1, 'course': 1, 'prof': 1, 'day': 2, 'period': 4}, {'stg': 1, 'course': 1, 'prof': 0, 'day': 3, 'period': 3}]\n"
     ]
    }
   ],
   "source": [
    "print(solution)"
   ]
  },
  {
   "cell_type": "code",
   "execution_count": 1243,
   "metadata": {},
   "outputs": [
    {
     "name": "stdout",
     "output_type": "stream",
     "text": [
      "+------------------------------------------------------------------------------------------------------------------+\n",
      "|                                           Schedule for student group 1                                           |\n",
      "+-----------+---------------+----------+----------+----------+----------+---------------+----------+---------------+\n",
      "|    Days   |    Period 1   | Period 2 | Period 3 | Period 4 | Period 5 |    Period 6   | Period 7 |    Period 8   |\n",
      "+-----------+---------------+----------+----------+----------+----------+---------------+----------+---------------+\n",
      "|   Monday  |               |          |          |          |          |               |          |               |\n",
      "|  Tuesday  |               |          |          |          |          |               |          | Computational |\n",
      "|           |               |          |          |          |          |               |          |  Intelligence |\n",
      "| Wednesday |               |          |          |          |          | Computational |          |               |\n",
      "|           |               |          |          |          |          |  Intelligence |          |               |\n",
      "|  Thursday | Computational |          |          |          |          | Computational |          |               |\n",
      "|           |  Intelligence |          |          |          |          |  Intelligence |          |               |\n",
      "|   Friday  |               |          |          |          |          |               |          |               |\n",
      "+-----------+---------------+----------+----------+----------+----------+---------------+----------+---------------+\n",
      "+------------------------------------------------------------------------------------------------------+\n",
      "|                                     Schedule for student group 2                                     |\n",
      "+-----------+----------+----------+-----------+-----------+-----------+----------+----------+----------+\n",
      "|    Days   | Period 1 | Period 2 |  Period 3 |  Period 4 |  Period 5 | Period 6 | Period 7 | Period 8 |\n",
      "+-----------+----------+----------+-----------+-----------+-----------+----------+----------+----------+\n",
      "|   Monday  |          |          |           |           |           |          |          |          |\n",
      "|  Tuesday  |          |          |           |           |           |          |          |          |\n",
      "| Wednesday |          |          |           |           | Automatic |          |          |          |\n",
      "|           |          |          |           |           |  Learning |          |          |          |\n",
      "|  Thursday |          |          |           | Automatic |           |          |          |          |\n",
      "|           |          |          |           |  Learning |           |          |          |          |\n",
      "|   Friday  |          |          | Automatic |           |           |          |          |          |\n",
      "|           |          |          |  Learning |           |           |          |          |          |\n",
      "+-----------+----------+----------+-----------+-----------+-----------+----------+----------+----------+\n"
     ]
    }
   ],
   "source": [
    "from prettytable import PrettyTable\n",
    "\n",
    "def get_mapped_value(value, value_type):\n",
    "    result = \"\"\n",
    "    if value_type == \"days\":\n",
    "        if value == 0:\n",
    "            result = \"Monday\"\n",
    "        if value == 1:\n",
    "            result = \"Tuesday\"\n",
    "        if value == 2:\n",
    "            result = \"Wednesday\"\n",
    "        if value == 3:\n",
    "            result = \"Thursday\"\n",
    "        if value == 4:\n",
    "            result = \"Friday\"\n",
    "\n",
    "    if value_type == \"courses\":\n",
    "        if value == 0:\n",
    "            result = \"Computational\\n Intelligence\"\n",
    "        if value == 1:\n",
    "            result = \"Automatic\\n Learning\"\n",
    "\n",
    "    return result\n",
    "\n",
    "for stg in stgs:\n",
    "    table = PrettyTable()\n",
    "    table.title = 'Schedule for student group ' + str(stg + 1)\n",
    "    field_names = ['Days']\n",
    "    for period_num in periods:\n",
    "        field_names.append(\"Period \" + str(period_num+1))\n",
    "    table.field_names = field_names\n",
    "    rows = []\n",
    "    for day in days:\n",
    "        day = get_mapped_value(day, \"days\")\n",
    "        current_day = [day]\n",
    "        for period_num in periods:\n",
    "            current_day.append(\"\")\n",
    "        rows.append(current_day)\n",
    "\n",
    "    for chromosome in solution:\n",
    "        if chromosome['stg'] == stg:\n",
    "            chr_day = chromosome['day']\n",
    "            chr_period = chromosome['period']\n",
    "            chr_course = chromosome['course']\n",
    "            chr_course = get_mapped_value(chr_course, \"courses\")\n",
    "            rows[chr_day][chr_period + 1] = chr_course\n",
    "        \n",
    "    for row in rows:\n",
    "        table.add_row(row)\n",
    "\n",
    "    # table.add_row(['bla', 0, 0, 0,0,0,0,0, \"\"])\n",
    "    # table.add_row(['blz', 0, 0, 0,0,0,0,0,0])\n",
    "    print(table)"
   ]
  },
  {
   "cell_type": "code",
   "execution_count": null,
   "metadata": {},
   "outputs": [],
   "source": []
  }
 ],
 "metadata": {
  "kernelspec": {
   "display_name": "Python 3.9.0 ('env': venv)",
   "language": "python",
   "name": "python3"
  },
  "language_info": {
   "codemirror_mode": {
    "name": "ipython",
    "version": 3
   },
   "file_extension": ".py",
   "mimetype": "text/x-python",
   "name": "python",
   "nbconvert_exporter": "python",
   "pygments_lexer": "ipython3",
   "version": "3.9.0"
  },
  "orig_nbformat": 4,
  "vscode": {
   "interpreter": {
    "hash": "9d34227c6258f2399ac51b911d717dcb68589774258bfddbd2aa53e1eeedf58e"
   }
  }
 },
 "nbformat": 4,
 "nbformat_minor": 2
}
