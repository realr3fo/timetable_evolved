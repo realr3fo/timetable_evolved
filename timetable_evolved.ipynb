{
 "cells": [
  {
   "cell_type": "markdown",
   "metadata": {},
   "source": [
    "# Hard and soft constraints"
   ]
  },
  {
   "cell_type": "markdown",
   "metadata": {},
   "source": [
    "### Hard constraints\n",
    "These are constraints that must be pursued during the search and without meeting these constraints, the solution is not true. These constraints are:\n",
    "- One teacher cannot give two courses at the same time\n",
    "- A set of students cannot have two classes at the same time\n",
    "- A teacher cannot teach more than maximum allotted hours.\n",
    "- Classes Cannot be on off days (Saturday and Sunday)\n",
    "- Maximum number of hours allotted for a day cannot be exceeded.\n",
    "\n",
    "### Soft constraints\n",
    "These constraints that are not mandatory for a solution must be pursued, but the quality of the courses schedule is decided by following these constraints\n",
    "- In the timetable of teacher, no more than two lectures a day, each one 1 hours and 30 minutes, breaks are preferred 30 minutes or more.\n",
    "- In the students' timetable, we have to put three lectures a day at maximum with 30 minutes breaks between lectures so that they have more time for self-study at home\n",
    "- We must ensure that a group of students does not have to attend school only to attend one class, there has to be a maximum of three classes in a day and a minimum of two classes so that it will be worth it to come to college on a particular day"
   ]
  },
  {
   "cell_type": "markdown",
   "metadata": {},
   "source": []
  },
  {
   "cell_type": "code",
   "execution_count": null,
   "metadata": {},
   "outputs": [],
   "source": []
  },
  {
   "cell_type": "markdown",
   "metadata": {},
   "source": [
    "# Initialization"
   ]
  },
  {
   "cell_type": "code",
   "execution_count": 8,
   "metadata": {},
   "outputs": [],
   "source": [
    "# Student groups:\n",
    "stg_0 = [0,0]\n",
    "stg_1 = [0,1]\n",
    "stg_2 = [1,0]\n",
    "stg_3 = [1,1]\n",
    "\n",
    "# Student Groups Weekly hours -> will be defined later, each student group will have separate number of weekly hours 10-15\n",
    "\n",
    "# List of courses:\n",
    "course_0 =  [0,0,0,0]\n",
    "course_1 = [0,0,0,1]\n",
    "course_2 = [0,0,1,0]\n",
    "course_3 = [0,0,1,1]\n",
    "\n",
    "# Courses weekly hours -> each course can have multiple hours per week\n",
    "# Professor for which course -> each course can have one or more professors available to teach\n",
    "\n",
    "# List of professors:\n",
    "prof_0 = [0,0,0,0]\n",
    "prof_1 = [0,0,0,1]\n",
    "prof_2 = [0,0,1,0]\n",
    "prof_3 = [0,0,1,1]\n",
    "\n",
    "# Professor availability -> each professor has availability only for certain day and time\n",
    "\n",
    "# Time slots availability -> part of constraints [defined]\n",
    "## Days (monday-friday)\n",
    "day_0 = [0, 0, 0]\n",
    "day_1 = [0, 0, 1]\n",
    "day_2 = [0, 1, 0]\n",
    "day_3 = [0, 1, 1]\n",
    "day_4 = [1, 0, 0]\n",
    "## lecture time\n",
    "time_0 = [0, 0, 0] # 08.30 - 10.00\n",
    "time_1 = [0, 0, 1] # 10.30 - 12.00\n",
    "time_2 = [0, 1, 0] # 12.30 - 14.00"
   ]
  },
  {
   "cell_type": "markdown",
   "metadata": {},
   "source": [
    "# Evolutionary steps"
   ]
  },
  {
   "cell_type": "code",
   "execution_count": 9,
   "metadata": {},
   "outputs": [],
   "source": [
    "# Initial population\n",
    "time_table_0 = stg_0 + course_0 + prof_0 + day_0 + time_0\n",
    "time_table_1 = stg_0 + course_1 + prof_1 + day_0 + time_1\n",
    "time_table_2 = stg_0 + course_2 + prof_2 + day_0 + time_2"
   ]
  },
  {
   "cell_type": "code",
   "execution_count": 10,
   "metadata": {},
   "outputs": [
    {
     "name": "stdout",
     "output_type": "stream",
     "text": [
      "[0, 0, 0, 0, 0, 0, 0, 0, 0, 0, 0, 0, 0, 0, 0, 0]\n",
      "[0, 0, 0, 0, 0, 1, 0, 0, 0, 1, 0, 0, 0, 0, 0, 1]\n",
      "[0, 0, 0, 0, 1, 0, 0, 0, 1, 0, 0, 0, 0, 0, 1, 0]\n"
     ]
    }
   ],
   "source": [
    "print(time_table_0)\n",
    "print(time_table_1)\n",
    "print(time_table_2)"
   ]
  }
 ],
 "metadata": {
  "kernelspec": {
   "display_name": "Python 3.9.0 ('env': venv)",
   "language": "python",
   "name": "python3"
  },
  "language_info": {
   "codemirror_mode": {
    "name": "ipython",
    "version": 3
   },
   "file_extension": ".py",
   "mimetype": "text/x-python",
   "name": "python",
   "nbconvert_exporter": "python",
   "pygments_lexer": "ipython3",
   "version": "3.9.0"
  },
  "orig_nbformat": 4,
  "vscode": {
   "interpreter": {
    "hash": "9d34227c6258f2399ac51b911d717dcb68589774258bfddbd2aa53e1eeedf58e"
   }
  }
 },
 "nbformat": 4,
 "nbformat_minor": 2
}
