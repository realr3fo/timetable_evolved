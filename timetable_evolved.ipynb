{
 "cells": [
  {
   "cell_type": "markdown",
   "metadata": {},
   "source": [
    "# Hard and soft constraints"
   ]
  },
  {
   "cell_type": "markdown",
   "metadata": {},
   "source": [
    "### Hard constraints\n",
    "These are constraints that must be pursued during the search and without meeting these constraints, the solution is not true. These constraints are:\n",
    "- All classes must be scheduled\n",
    "- No classes or lecturers are allocated twice at same time\n",
    "\n",
    "### Soft constraints\n",
    "These constraints that are not mandatory for a solution must be pursued, but the quality of the courses schedule is decided by following these constraints\n",
    "- classes scheduled within preferred hours\n",
    "- Avoid long runs of consecutive lectures"
   ]
  },
  {
   "cell_type": "markdown",
   "metadata": {},
   "source": [
    "# Initialization"
   ]
  },
  {
   "cell_type": "code",
   "execution_count": 167,
   "metadata": {},
   "outputs": [],
   "source": [
    "import numpy as np\n",
    "from numpy import random\n",
    "from itertools import product\n",
    "from prettytable import PrettyTable\n",
    "import csv"
   ]
  },
  {
   "cell_type": "code",
   "execution_count": 168,
   "metadata": {},
   "outputs": [],
   "source": [
    "# Initialization to convert input from user into a single data\n",
    "def initialize(students, courses, day_times, prof_input):\n",
    "    initialized_data = {}\n",
    "    initialized_data[\"stgs\"] = students\n",
    "    initialized_data[\"courses\"] = courses\n",
    "    initialized_data[\"days\"] = day_times[\"days\"]\n",
    "    initialized_data[\"periods\"] = day_times[\"periods\"]\n",
    "    availability_product = list(product(initialized_data[\"days\"], initialized_data[\"periods\"]))\n",
    "    availability_list = [list(elem) for elem in availability_product]\n",
    "    prof_data = {}\n",
    "    for prof in prof_input.keys():\n",
    "        current_available = availability_list.copy()\n",
    "        unavailables = prof_input[prof][\"unavailable\"]\n",
    "        for elem in unavailables:\n",
    "            current_available.remove(elem)\n",
    "        prof_data[prof]= {\"availability_list\" : current_available}\n",
    "    initialized_data[\"profs\"] = prof_data\n",
    "    return initialized_data"
   ]
  },
  {
   "cell_type": "code",
   "execution_count": 169,
   "metadata": {},
   "outputs": [],
   "source": [
    "# Generating a random initial population\n",
    "def generate_population(n, input_data):\n",
    "    stgs = [ key for key in input_data[\"stgs\"].keys()]\n",
    "    courses = [ key for key in input_data[\"courses\"].keys()]\n",
    "    profs = [key for key in input_data[\"profs\"].keys()]\n",
    "    days = input_data[\"days\"]\n",
    "    periods = input_data[\"periods\"]\n",
    "    chromosome_length = 0\n",
    "    for stg in stgs:\n",
    "        chromosome_length += input_data[\"stgs\"][stg][\"hour\"]\n",
    "\n",
    "    population = []\n",
    "    for _ in range(n):\n",
    "        cur_individual = []\n",
    "        for _ in range(chromosome_length):\n",
    "            stg = random.choice(stgs)\n",
    "            course = random.choice(courses)\n",
    "            prof = random.choice(profs)\n",
    "            day = random.choice(days)\n",
    "            period = random.choice(periods)\n",
    "            cur_chromosome = {\"stg\": stg, \"course\": course, \"prof\": prof,\n",
    "            \"day\": day, \"period\": period}\n",
    "            cur_individual.append(cur_chromosome)\n",
    "        population.append(cur_individual)\n",
    "    return population"
   ]
  },
  {
   "cell_type": "markdown",
   "metadata": {},
   "source": [
    "# Evolutionary functions"
   ]
  },
  {
   "cell_type": "code",
   "execution_count": 170,
   "metadata": {},
   "outputs": [],
   "source": [
    "# Fitness function\n",
    "# TODO: add soft constraints\n",
    "def fitness_function(matrix, data):\n",
    "    stgs = [ key for key in data[\"stgs\"].keys()]\n",
    "    courses = [ key for key in data[\"courses\"].keys()]\n",
    "    profs = [key for key in data[\"profs\"].keys()]\n",
    "    stg_checker = {}\n",
    "    course_checker = {}\n",
    "    prof_checker = {}\n",
    "    for stg in stgs:\n",
    "        stg_checker[stg] = []\n",
    "    for prof in profs:\n",
    "        prof_checker[prof] = []\n",
    "    for course in courses:\n",
    "        course_checker[course] = 0\n",
    "\n",
    "    hard_penalty_counter = 0\n",
    "    for chromosome in matrix:\n",
    "        stg = chromosome[\"stg\"]\n",
    "        course = chromosome[\"course\"]\n",
    "        prof = chromosome[\"prof\"]\n",
    "        day = chromosome[\"day\"]\n",
    "        period = chromosome[\"period\"]\n",
    "        course_checker[course] += 1\n",
    "        if course not in data[\"stgs\"][stg][\"course_list\"]:\n",
    "            hard_penalty_counter += 1\n",
    "        if prof not in data[\"courses\"][course][\"prof_list\"]:\n",
    "            hard_penalty_counter += 1\n",
    "        timeslot = [day, period]\n",
    "        if timeslot not in stg_checker[stg]:\n",
    "            stg_checker[stg].append(timeslot)\n",
    "        else:\n",
    "            hard_penalty_counter += 1\n",
    "        if timeslot not in prof_checker[prof]:\n",
    "            prof_checker[prof].append(timeslot)\n",
    "        else:\n",
    "            hard_penalty_counter += 1\n",
    "        if timeslot not in data[\"profs\"][prof][\"availability_list\"]:\n",
    "            hard_penalty_counter += 1\n",
    "    for course_key in course_checker.keys():\n",
    "        if course_checker[course_key] != data[\"courses\"][course_key][\"hour\"]:\n",
    "            abs_diff = np.abs(course_checker[course_key] - data[\"courses\"][course_key][\"hour\"]) \n",
    "            hard_penalty_counter += abs_diff\n",
    "    for stg in stgs:\n",
    "        if len(stg_checker[stg]) != data[\"stgs\"][stg][\"hour\"]:\n",
    "            abs_diff = np.abs(len(stg_checker[stg]) - data[\"stgs\"][stg][\"hour\"]) \n",
    "            hard_penalty_counter += abs_diff\n",
    "    \n",
    "    # Check for soft constraints\n",
    "    soft_penalty_counter = 0\n",
    "\n",
    "    hard_penalty_resolved = True if hard_penalty_counter == 0 else False\n",
    "\n",
    "    result = 1/(1+(soft_penalty_counter + hard_penalty_counter))\n",
    "    return result, hard_penalty_resolved"
   ]
  },
  {
   "cell_type": "code",
   "execution_count": 171,
   "metadata": {},
   "outputs": [],
   "source": [
    "# One point crossover from index 1 to last index\n",
    "def one_point_crossover(parent_1, parent_2, crossover_rate=0.8):\n",
    "    crossover_point = random.randint(1, len(parent_1))\n",
    "    child_1 = parent_1.copy()\n",
    "    if (random.random() < crossover_rate):\n",
    "        child_1[crossover_point:] = parent_2[crossover_point:]\n",
    "    return child_1"
   ]
  },
  {
   "cell_type": "code",
   "execution_count": 172,
   "metadata": {},
   "outputs": [],
   "source": [
    "# Mutation by Random resetting\n",
    "def mutation(individual, input_data, mutation_rate=0.02):\n",
    "    stgs = [ key for key in input_data[\"stgs\"].keys()]\n",
    "    courses = [ key for key in input_data[\"courses\"].keys()]\n",
    "    profs = [key for key in input_data[\"profs\"].keys()]\n",
    "    days = input_data[\"days\"]\n",
    "    periods = input_data[\"periods\"]\n",
    "    for mutate_index in range(len(individual)):\n",
    "        mutation_prob = random.random()\n",
    "        if (mutation_prob < mutation_rate):\n",
    "            mutate_attr = random.randint(len(individual))\n",
    "            if mutate_attr == 0:\n",
    "                individual[mutate_index][\"stg\"] = random.choice(stgs)\n",
    "            if mutate_attr == 1:\n",
    "                individual[mutate_index][\"course\"] = random.choice(courses)\n",
    "            if mutate_attr == 2:\n",
    "                individual[mutate_index][\"prof\"] = random.choice(profs)\n",
    "            if mutate_attr == 3:\n",
    "                individual[mutate_index][\"day\"] = random.choice(days)\n",
    "            if mutate_attr == 4:\n",
    "                individual[mutate_index][\"period\"] = random.choice(periods)\n",
    "    return individual"
   ]
  },
  {
   "cell_type": "code",
   "execution_count": 173,
   "metadata": {},
   "outputs": [],
   "source": [
    "# Selection by ranking\n",
    "# Choose top 0.1 and then reproduce until same length as population\n",
    "def get_new_population_selection_by_ranking(population, fitness_values, data):\n",
    "    zipped_population = [(x,y) for x,y in zip(population, fitness_values)]\n",
    "    sorted_population = sorted(zipped_population,key=lambda x: x[1], reverse=True)\n",
    "    population_length = len(population)\n",
    "    elites = sorted_population[:population_length//10]\n",
    "    elites = [x[0] for x in elites]\n",
    "    new_gen = []\n",
    "    for _ in range(population_length):\n",
    "        parent_x_idx = random.randint(len(elites))\n",
    "        parent_y_idx = random.randint(len(elites))\n",
    "        while parent_x_idx == parent_y_idx:\n",
    "            parent_y_idx = random.randint(len(elites))\n",
    "        parent_x, parent_y = elites[parent_x_idx], elites[parent_y_idx]\n",
    "        child_1= one_point_crossover(parent_x, parent_y)\n",
    "        mutated_1= mutation(child_1, data)\n",
    "        new_gen.append(mutated_1)\n",
    "    return new_gen"
   ]
  },
  {
   "cell_type": "code",
   "execution_count": 174,
   "metadata": {},
   "outputs": [],
   "source": [
    "# Main genetic algorithm function\n",
    "def genetic_algorithm(input_fitness_values, input_population, input_data, DEBUG=False, debug_num=100):\n",
    "    counter = 0\n",
    "    current_fitness_values = input_fitness_values.copy()\n",
    "    current_population = input_population.copy()\n",
    "    solution = {}\n",
    "    avg_fitness_list = []\n",
    "    max_fitness_list = []\n",
    "    while True:\n",
    "        new_population = get_new_population_selection_by_ranking(current_population, current_fitness_values, input_data)\n",
    "        new_fitness_values= []\n",
    "        is_solution_checker = []\n",
    "        for idx in range(len(new_population)):\n",
    "            fitness_value, is_solution = fitness_function(new_population[idx], input_data)\n",
    "            new_fitness_values.append(fitness_value)\n",
    "            is_solution_checker.append(is_solution)\n",
    "        for i in range(len(new_fitness_values)):\n",
    "            if new_fitness_values[i] > current_fitness_values[i]:\n",
    "                current_population[i] = new_population[i]\n",
    "                current_fitness_values[i] = new_fitness_values[i]\n",
    "        counter += 1\n",
    "        max_fitness = np.max(current_fitness_values)\n",
    "        avg_fitness = np.mean(current_fitness_values)\n",
    "        max_fitness_list.append(max_fitness)\n",
    "        avg_fitness_list.append(avg_fitness)\n",
    "        if True in is_solution_checker:\n",
    "            index = is_solution_checker.index(True)\n",
    "            print(\"SOLUTION FOUND\", \"\\nGeneration count:\", counter, \"\\nSolution:\", new_population[index])\n",
    "            solution = new_population[index]\n",
    "            break\n",
    "        if DEBUG:\n",
    "            if counter % debug_num == 0:\n",
    "                print(counter, max_fitness, avg_fitness)\n",
    "    return solution, avg_fitness_list, max_fitness_list"
   ]
  },
  {
   "cell_type": "markdown",
   "metadata": {},
   "source": [
    "# Input (Program begins here)"
   ]
  },
  {
   "cell_type": "markdown",
   "metadata": {},
   "source": [
    "#### Functions to assign course and professor names"
   ]
  },
  {
   "cell_type": "code",
   "execution_count": 175,
   "metadata": {},
   "outputs": [],
   "source": [
    "def assign_courses(input_data):\n",
    "    assigned_courses = {}\n",
    "    courses = [ key for key in input_data[\"courses\"].keys()]\n",
    "    words = list(csv.reader(open(\"courses.csv\")))\n",
    "    for course in courses:\n",
    "        rand_num = random.randint(len(words))\n",
    "        rand_course = words[rand_num][0]\n",
    "        assigned_courses[course] = rand_course\n",
    "    return assigned_courses"
   ]
  },
  {
   "cell_type": "code",
   "execution_count": 176,
   "metadata": {},
   "outputs": [],
   "source": [
    "def assign_profs(input_data):\n",
    "    assigned_profs = {}\n",
    "    profs = [ key for key in input_data[\"profs\"].keys()]\n",
    "    words = list(csv.reader(open(\"profs.csv\")))\n",
    "    for prof in profs:\n",
    "        rand_num = random.randint(len(words))\n",
    "        rand_prof = \"Prof. \" + words[rand_num][0]\n",
    "        assigned_profs[prof] = rand_prof\n",
    "    return assigned_profs"
   ]
  },
  {
   "cell_type": "markdown",
   "metadata": {},
   "source": [
    "#### Different kinds of input"
   ]
  },
  {
   "cell_type": "code",
   "execution_count": 177,
   "metadata": {},
   "outputs": [],
   "source": [
    "def easy_input():\n",
    "    # Code for creating an input\n",
    "    # Number of population = number student gouweekly hours\n",
    "    student_input = {0: {\"hour\": 4, \"course_list\": [0]}, 1: {\"hour\": 3, \"course_list\": [1]}}\n",
    "    course_input = {0: {\"hour\": 4, \"prof_list\": [0, 1]}, 1: {\"hour\": 3, \"prof_list\": [0, 1]}}\n",
    "    day_time_availability = {\"days\": [0,1,2,3,4], \"periods\": [0,1,2,3,4,5,6,7,8]}\n",
    "    # [[day, period]]\n",
    "    prof_input = {0: {\"unavailable\": [] }, 1: {\"unavailable\": []}}\n",
    "    initialized_data = initialize(student_input, course_input, day_time_availability, prof_input)\n",
    "    return initialized_data"
   ]
  },
  {
   "cell_type": "markdown",
   "metadata": {},
   "source": [
    "#### Choosing which degree of input will be used for the algorithm"
   ]
  },
  {
   "cell_type": "code",
   "execution_count": 178,
   "metadata": {},
   "outputs": [
    {
     "name": "stdout",
     "output_type": "stream",
     "text": [
      "{'stgs': {0: {'hour': 4, 'course_list': [0]}, 1: {'hour': 3, 'course_list': [1]}}, 'courses': {0: {'hour': 4, 'prof_list': [0, 1]}, 1: {'hour': 3, 'prof_list': [0, 1]}}, 'days': [0, 1, 2, 3, 4], 'periods': [0, 1, 2, 3, 4, 5, 6, 7, 8], 'profs': {0: {'availability_list': [[0, 0], [0, 1], [0, 2], [0, 3], [0, 4], [0, 5], [0, 6], [0, 7], [0, 8], [1, 0], [1, 1], [1, 2], [1, 3], [1, 4], [1, 5], [1, 6], [1, 7], [1, 8], [2, 0], [2, 1], [2, 2], [2, 3], [2, 4], [2, 5], [2, 6], [2, 7], [2, 8], [3, 0], [3, 1], [3, 2], [3, 3], [3, 4], [3, 5], [3, 6], [3, 7], [3, 8], [4, 0], [4, 1], [4, 2], [4, 3], [4, 4], [4, 5], [4, 6], [4, 7], [4, 8]]}, 1: {'availability_list': [[0, 0], [0, 1], [0, 2], [0, 3], [0, 4], [0, 5], [0, 6], [0, 7], [0, 8], [1, 0], [1, 1], [1, 2], [1, 3], [1, 4], [1, 5], [1, 6], [1, 7], [1, 8], [2, 0], [2, 1], [2, 2], [2, 3], [2, 4], [2, 5], [2, 6], [2, 7], [2, 8], [3, 0], [3, 1], [3, 2], [3, 3], [3, 4], [3, 5], [3, 6], [3, 7], [3, 8], [4, 0], [4, 1], [4, 2], [4, 3], [4, 4], [4, 5], [4, 6], [4, 7], [4, 8]]}}}\n"
     ]
    }
   ],
   "source": [
    "initialized_data = easy_input()\n",
    "\n",
    "assigned_courses = assign_courses(initialized_data)\n",
    "assigned_profs = assign_profs(initialized_data)\n",
    "\n",
    "print(initialized_data)\n",
    "stgs = [ key for key in initialized_data[\"stgs\"].keys()]\n",
    "courses = [ key for key in initialized_data[\"courses\"].keys()]\n",
    "profs = [key for key in initialized_data[\"profs\"].keys()]\n",
    "days = initialized_data[\"days\"]\n",
    "periods = initialized_data[\"periods\"]"
   ]
  },
  {
   "cell_type": "markdown",
   "metadata": {},
   "source": [
    "#### Generating initial population"
   ]
  },
  {
   "cell_type": "code",
   "execution_count": 179,
   "metadata": {},
   "outputs": [
    {
     "name": "stdout",
     "output_type": "stream",
     "text": [
      "0.3333333333333333 0.12494630369630366\n"
     ]
    }
   ],
   "source": [
    "population_num = 100\n",
    "initial_population = generate_population(population_num, initialized_data)\n",
    "initial_fitness_values = []\n",
    "for idx in range(len(initial_population)):\n",
    "    fitness_value, _ = fitness_function(initial_population[idx], initialized_data)\n",
    "    initial_fitness_values.append(fitness_value)\n",
    "print(np.max(initial_fitness_values), np.mean(initial_fitness_values))"
   ]
  },
  {
   "cell_type": "markdown",
   "metadata": {},
   "source": [
    "#### Calling the genetic algorithm function"
   ]
  },
  {
   "cell_type": "code",
   "execution_count": 180,
   "metadata": {},
   "outputs": [
    {
     "name": "stdout",
     "output_type": "stream",
     "text": [
      "SOLUTION FOUND \n",
      "Generation count: 72 \n",
      "Solution: [{'stg': 0, 'course': 0, 'prof': 0, 'day': 4, 'period': 7}, {'stg': 1, 'course': 1, 'prof': 0, 'day': 4, 'period': 6}, {'stg': 0, 'course': 0, 'prof': 0, 'day': 2, 'period': 7}, {'stg': 0, 'course': 0, 'prof': 1, 'day': 2, 'period': 1}, {'stg': 1, 'course': 1, 'prof': 1, 'day': 1, 'period': 0}, {'stg': 1, 'course': 1, 'prof': 1, 'day': 3, 'period': 5}, {'stg': 0, 'course': 0, 'prof': 0, 'day': 3, 'period': 6}]\n"
     ]
    }
   ],
   "source": [
    "solution, avg_fitness_list, max_fitness_list = genetic_algorithm(initial_fitness_values, initial_population, initialized_data)"
   ]
  },
  {
   "cell_type": "markdown",
   "metadata": {},
   "source": [
    "# Timetable showcase"
   ]
  },
  {
   "cell_type": "code",
   "execution_count": 187,
   "metadata": {},
   "outputs": [
    {
     "name": "stdout",
     "output_type": "stream",
     "text": [
      "+---------------------------------------------------------------------------------------+\n",
      "|                              Schedule for student group 1                             |\n",
      "+---------------+-------+---------+-----------------+-----------------+-----------------+\n",
      "|               | Day 0 | Tuesday |    Wednesday    |     Thursday    |      Friday     |\n",
      "+---------------+-------+---------+-----------------+-----------------+-----------------+\n",
      "| 08:00 - 09:00 |       |         |                 |                 |                 |\n",
      "| 09:00 - 10:00 |       |         |     Zoology     |                 |                 |\n",
      "|               |       |         |  - Prof. Benoit |                 |                 |\n",
      "| 10:00 - 11:00 |       |         |                 |                 |                 |\n",
      "| 11:00 - 12:00 |       |         |                 |                 |                 |\n",
      "| 12:00 - 13:00 |       |         |                 |                 |                 |\n",
      "| 13:00 - 14:00 |       |         |                 |                 |                 |\n",
      "| 14:00 - 15:00 |       |         |                 |     Zoology     |                 |\n",
      "|               |       |         |                 | - Prof. Raymond |                 |\n",
      "| 15:00 - 16:00 |       |         |     Zoology     |                 |     Zoology     |\n",
      "|               |       |         | - Prof. Raymond |                 | - Prof. Raymond |\n",
      "| 16:00 - 17:00 |       |         |                 |                 |                 |\n",
      "+---------------+-------+---------+-----------------+-----------------+-----------------+\n",
      "+---------------------------------------------------------------------------------------+\n",
      "|                              Schedule for student group 2                             |\n",
      "+---------------+-------+----------------+-----------+----------------+-----------------+\n",
      "|               | Day 0 |    Tuesday     | Wednesday |    Thursday    |      Friday     |\n",
      "+---------------+-------+----------------+-----------+----------------+-----------------+\n",
      "| 08:00 - 09:00 |       |     Hebrew     |           |                |                 |\n",
      "|               |       | - Prof. Benoit |           |                |                 |\n",
      "| 09:00 - 10:00 |       |                |           |                |                 |\n",
      "| 10:00 - 11:00 |       |                |           |                |                 |\n",
      "| 11:00 - 12:00 |       |                |           |                |                 |\n",
      "| 12:00 - 13:00 |       |                |           |                |                 |\n",
      "| 13:00 - 14:00 |       |                |           |     Hebrew     |                 |\n",
      "|               |       |                |           | - Prof. Benoit |                 |\n",
      "| 14:00 - 15:00 |       |                |           |                |      Hebrew     |\n",
      "|               |       |                |           |                | - Prof. Raymond |\n",
      "| 15:00 - 16:00 |       |                |           |                |                 |\n",
      "| 16:00 - 17:00 |       |                |           |                |                 |\n",
      "+---------------+-------+----------------+-----------+----------------+-----------------+\n"
     ]
    }
   ],
   "source": [
    "def get_mapped_value(value, value_type, input_dict={}):\n",
    "    result = \"\"\n",
    "    if value_type == \"days\":\n",
    "        if value == 0:\n",
    "            result = \"Monday\"\n",
    "        if value == 1:\n",
    "            result = \"Tuesday\"\n",
    "        if value == 2:\n",
    "            result = \"Wednesday\"\n",
    "        if value == 3:\n",
    "            result = \"Thursday\"\n",
    "        if value == 4:\n",
    "            result = \"Friday\"\n",
    "        if value == 5:\n",
    "            result = \"Saturday\"\n",
    "        if value == 6:\n",
    "            result = \"Sunday\"\n",
    "        if value <= 0 or value >= 7:\n",
    "            result = \"Day \" + str(value)\n",
    "    \n",
    "    if value_type == \"periods\":\n",
    "        time_from = value + 8\n",
    "        time_to = time_from + 1\n",
    "        result = str(time_from).zfill(2) + \":00\" + \" - \" + str(time_to).zfill(2) + \":00\"\n",
    "\n",
    "    if value_type == \"courses\":\n",
    "        result = input_dict[value]\n",
    "    \n",
    "    if value_type == \"profs\":\n",
    "        result = input_dict[value]\n",
    "    return result\n",
    "\n",
    "for stg in stgs:\n",
    "    table = PrettyTable()\n",
    "    table.title = 'Schedule for student group ' + str(stg + 1)\n",
    "    field_names = ['']\n",
    "    for day in days:\n",
    "        day = get_mapped_value(day, \"days\")\n",
    "        field_names.append(day)\n",
    "    table.field_names = field_names\n",
    "    rows = []\n",
    "    for period_num in periods:\n",
    "        current_period = [get_mapped_value(period_num, \"periods\")]\n",
    "        for _ in days:\n",
    "            current_period.append(\"\")\n",
    "        rows.append(current_period)\n",
    "    for chromosome in solution:\n",
    "        if chromosome['stg'] == stg:\n",
    "            chr_day = chromosome['day']\n",
    "            chr_period = chromosome['period']\n",
    "            chr_course = chromosome['course']\n",
    "            chr_course = get_mapped_value(chr_course, \"courses\", assigned_courses)\n",
    "            chr_prof = chromosome['prof']\n",
    "            chr_prof = get_mapped_value(chr_prof, \"profs\", assigned_profs)\n",
    "            day_idx = days.index(chr_day)\n",
    "            period_idx = periods.index(chr_period)\n",
    "            rows[period_idx][day_idx + 1] = chr_course + \"\\n- \" + chr_prof\n",
    "        \n",
    "    for row in rows:\n",
    "        table.add_row(row)\n",
    "\n",
    "    print(table)"
   ]
  },
  {
   "cell_type": "markdown",
   "metadata": {},
   "source": [
    "# Performance evaluation"
   ]
  },
  {
   "cell_type": "code",
   "execution_count": 182,
   "metadata": {},
   "outputs": [
    {
     "data": {
      "image/png": "[encoded data removed]",
      "text/plain": [
       "<Figure size 640x480 with 1 Axes>"
      ]
     },
     "metadata": {},
     "output_type": "display_data"
    }
   ],
   "source": [
    "import matplotlib.pyplot as plt\n",
    "\n",
    "x_limit = len(avg_fitness_list) + len(avg_fitness_list)//50\n",
    "y_limit_high = np.max(max_fitness_list)\n",
    "\n",
    "plt.xlim(0, x_limit)\n",
    "plt.ylim(0, y_limit_high)\n",
    "plt.plot(max_fitness_list, linewidth=2, color=\"salmon\")\n",
    "plt.plot(avg_fitness_list, linewidth=1, color=\"lightskyblue\")\n",
    "plt.ylabel(\"Evaluation\")\n",
    "plt.xlabel(\"Iteration\")\n",
    "plt.legend([\"Best\", \"Mean\"], loc=\"upper left\")\n",
    "plt.title(\"Best vs Mean\")\n",
    "plt.show()"
   ]
  },
  {
   "cell_type": "code",
   "execution_count": 183,
   "metadata": {},
   "outputs": [],
   "source": [
    "# from matplotlib.animation import FuncAnimation\n",
    "# plt.style.use(\"seaborn-pastel\")\n",
    "# fig, ax = plt.subplots()\n",
    "# fig.set_size_inches(10, 5)\n",
    "\n",
    "# def init():\n",
    "#     ax.set(\n",
    "#         xlim=(0, x_limit),\n",
    "#         ylim=[min(avg_fitness_list), max(max_fitness_list)],\n",
    "#         title=\"Best vs Mean\",\n",
    "#         xlabel=\"Iteration\",\n",
    "#         ylabel=\"Evaluation\",\n",
    "#     )\n",
    "\n",
    "# def update(i):\n",
    "#     l1 = plt.plot(np.array(max_fitness_list[:i]), linewidth=2, color=\"salmon\")\n",
    "#     l2 = plt.plot(np.array(avg_fitness_list[:i]), linewidth=1, color=\"lightskyblue\")\n",
    "#     plt.legend([\"Best\", \"Mean\"], loc=\"upper left\")\n",
    "\n",
    "# anim = FuncAnimation(fig, update, frames=x_limit, init_func=init, interval=1)\n",
    "# anim.save(\"animation.gif\", writer=\"imagemagick\")\n",
    "# plt.show()"
   ]
  }
 ],
 "metadata": {
  "kernelspec": {
   "display_name": "Python 3.9.0 ('env': venv)",
   "language": "python",
   "name": "python3"
  },
  "language_info": {
   "codemirror_mode": {
    "name": "ipython",
    "version": 3
   },
   "file_extension": ".py",
   "mimetype": "text/x-python",
   "name": "python",
   "nbconvert_exporter": "python",
   "pygments_lexer": "ipython3",
   "version": "3.9.0"
  },
  "orig_nbformat": 4,
  "vscode": {
   "interpreter": {
    "hash": "9d34227c6258f2399ac51b911d717dcb68589774258bfddbd2aa53e1eeedf58e"
   }
  }
 },
 "nbformat": 4,
 "nbformat_minor": 2
}
