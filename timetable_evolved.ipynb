{
 "cells": [
  {
   "cell_type": "markdown",
   "metadata": {},
   "source": [
    "# Hard and soft constraints"
   ]
  },
  {
   "cell_type": "markdown",
   "metadata": {},
   "source": [
    "### Hard constraints\n",
    "These are constraints that must be pursued during the search and without meeting these constraints, the solution is not true. These constraints are:\n",
    "- One teacher cannot give two courses at the same time\n",
    "- A set of students cannot have two classes at the same time\n",
    "- A teacher cannot teach more than maximum allotted hours.\n",
    "- Classes Cannot be on off days (Saturday and Sunday)\n",
    "- Maximum number of hours allotted for a day cannot be exceeded.\n",
    "\n",
    "### Soft constraints\n",
    "These constraints that are not mandatory for a solution must be pursued, but the quality of the courses schedule is decided by following these constraints\n",
    "- In the timetable of teacher, no more than two lectures a day, each one 1 hours and 30 minutes, breaks are preferred 30 minutes or more.\n",
    "- In the students' timetable, we have to put three lectures a day at maximum with 30 minutes breaks between lectures so that they have more time for self-study at home\n",
    "- We must ensure that a group of students does not have to attend school only to attend one class, there has to be a maximum of three classes in a day and a minimum of two classes so that it will be worth it to come to college on a particular day"
   ]
  },
  {
   "cell_type": "markdown",
   "metadata": {},
   "source": [
    "# Initialization"
   ]
  },
  {
   "cell_type": "code",
   "execution_count": 36,
   "metadata": {},
   "outputs": [],
   "source": [
    "def initialize(students, courses, day_times, prof_input):\n",
    "    initialized_data = {}\n",
    "    initialized_data[\"stgs\"] = students\n",
    "    initialized_data[\"courses\"] = courses\n",
    "    initialized_data[\"days\"] = [i for i in range(day_times[\"day\"])]\n",
    "    initialized_data[\"periods\"] = [i for i in range(day_times[\"period\"])]\n",
    "    initialized_data[\"profs\"] = prof_input\n",
    "    return initialized_data"
   ]
  },
  {
   "cell_type": "code",
   "execution_count": 37,
   "metadata": {},
   "outputs": [],
   "source": [
    "# Code for initialization based on input\n",
    "student_input = {0: {\"hour\": 3, \"course_list\": [0, 1]}, 1: {\"hour\": 3, \"course_list\": [1]}}\n",
    "course_input = {0: {\"hour\": 3, \"prof_list\": [0, 1]}, 1: {\"hour\": 3, \"prof_list\": [1]}}\n",
    "day_time_availability = {\"day\": 5, \"period\": 8}\n",
    "# [[day, period]]\n",
    "prof_input = {0: {\"availability_list\": [[0,0], [0,1], [0,2], [0,3], [0,4], [0,5], [0,6], [0,7],[1,0], [1,1], [1,2], [1,3], [1,4], [1,5], [1,6], [1,7],[2,0], [2,1], [2,2], [2,3], [2,4], [2,5], [2,6], [2,7] ]},\n",
    "1: {\"availability_list\": [[3,0], [3,1], [3,2], [3,3], [3,4], [3,5], [3,6], [3,7],[4,0], [4,1], [4,2], [4,3], [4,4], [4,5], [4,6], [4,7]]}}\n",
    "initialized_data = initialize(student_input, course_input, day_time_availability, prof_input)\n",
    "# initialized_data"
   ]
  },
  {
   "cell_type": "code",
   "execution_count": 10,
   "metadata": {},
   "outputs": [],
   "source": [
    "# # EASY input\n",
    "# # Student groups (customizable):\n",
    "# stg_0 = [0]\n",
    "# stg_1 = [1]\n",
    "\n",
    "# # Student Groups Weekly hours -> will be defined later, each student group will have separate number of weekly hours 10-15\n",
    "# stg_0_wh = 3\n",
    "# stg_1_wh = 3\n",
    "\n",
    "# # List of courses (customizable):\n",
    "# course_0 = [0]\n",
    "# course_1 = [1]\n",
    "\n",
    "# # Courses weekly hours -> each course can have multiple hours per week\n",
    "# course_0_wh = 3\n",
    "# course_1_wh = 3\n",
    "\n",
    "# # Professor for which course -> each course can have one or more professors available to teach\n",
    "# prof_0 = [0]\n",
    "# prof_1 = [1]\n",
    "\n",
    "# # Student group course list\n",
    "# stg_0_course_list = [course_0]\n",
    "# stg_1_course_list = [course_1]\n",
    "\n",
    "# # Course prof list\n",
    "# course_0_prof_list = [prof_0]\n",
    "# course_1_prof_list = [prof_1]\n",
    "\n",
    "# # Course dict\n",
    "# course_dict = {0: {\"prof\": [0], \"hour\": 3}, 1: {\"prof\": [1], \"hour\": 3}}\n",
    "\n",
    "# # Time slots availability (customizable) -> part of constraints [defined]\n",
    "# ## Days (monday-friday)\n",
    "# day_0 = [0, 0, 0]\n",
    "# day_1 = [0, 0, 1]\n",
    "# day_2 = [0, 1, 0]\n",
    "# day_3 = [0, 1, 1]\n",
    "# day_4 = [1, 0, 0]\n",
    "# ## Periods (from 0-7) each period is 1 hour long\n",
    "# time_0 = [0, 0, 0] # 08.30 - 10.00\n",
    "# time_1 = [0, 0, 1] # 10.30 - 12.00\n",
    "# time_2 = [0, 1, 0] # 12.30 - 14.00\n",
    "# time_3 = [0, 1, 1] # 12.30 - 14.00\n",
    "# time_4 = [1, 0, 0] # 12.30 - 14.00\n",
    "# time_5 = [1, 0, 1] # 12.30 - 14.00\n",
    "# time_6 = [1, 1, 0] # 12.30 - 14.00\n",
    "# time_7 = [1, 1, 1] # 12.30 - 14.00\n",
    "\n",
    "# # Professor availability (customizable) -> each professor has availability only for certain day and time\n",
    "# default_availability = [day_0 + time_0, day_0 + time_1, day_0 + time_2, day_0 + time_3, day_0 + time_4, day_0 + time_5, day_0 + time_6, day_0 + time_7,\n",
    "# day_1 + time_0, day_1 + time_1, day_1 + time_2, day_1 + time_3, day_1 + time_4, day_1 + time_5, day_1 + time_6, day_1 + time_7,\n",
    "# day_2 + time_0, day_2 + time_1, day_2 + time_2, day_2 + time_3, day_2 + time_4, day_2 + time_5, day_2 + time_6, day_2 + time_7,\n",
    "# day_3 + time_0, day_3 + time_1, day_3 + time_2, day_3 + time_3, day_3 + time_4, day_3 + time_5, day_3 + time_6, day_3 + time_7,\n",
    "# day_4 + time_0, day_4 + time_1, day_4 + time_2, day_4 + time_3, day_4 + time_4, day_4 + time_5, day_4 + time_6, day_4 + time_7]\n",
    "# prof_0_availability = default_availability = [day_0 + time_0, day_0 + time_1, day_0 + time_2, day_0 + time_3, day_0 + time_4, day_0 + time_5, day_0 + time_6, day_0 + time_7,\n",
    "# day_1 + time_0, day_1 + time_1, day_1 + time_2, day_1 + time_3, day_1 + time_4, day_1 + time_5, day_1 + time_6, day_1 + time_7,\n",
    "# day_3 + time_0, day_3 + time_1, day_3 + time_2, day_3 + time_3, day_3 + time_4, day_3 + time_5, day_3 + time_6, day_3 + time_7,\n",
    "# day_4 + time_0, day_4 + time_1, day_4 + time_2, day_4 + time_3, day_4 + time_4, day_4 + time_5, day_4 + time_6, day_4 + time_7]\n",
    "# prof_1_availability = default_availability = [day_0 + time_0, day_0 + time_1, day_0 + time_2, day_0 + time_3, day_0 + time_4, day_0 + time_5, day_0 + time_6, day_0 + time_7,\n",
    "# day_1 + time_0, day_1 + time_1, day_1 + time_2, day_1 + time_3, day_1 + time_4, day_1 + time_5, day_1 + time_6, day_1 + time_7,\n",
    "# day_2 + time_0, day_2 + time_1, day_2 + time_2, day_2 + time_3, day_2 + time_4, day_2 + time_5, day_2 + time_6, day_2 + time_7,\n",
    "# day_3 + time_0, day_3 + time_1, day_3 + time_2, day_3 + time_3, day_3 + time_4, day_3 + time_5, day_3 + time_6, day_3 + time_7]"
   ]
  },
  {
   "cell_type": "code",
   "execution_count": 41,
   "metadata": {},
   "outputs": [
    {
     "name": "stdout",
     "output_type": "stream",
     "text": [
      "{'stgs': {0: {'hour': 3, 'course_list': [0, 1]}, 1: {'hour': 3, 'course_list': [1]}}, 'courses': {0: {'hour': 3, 'prof_list': [0, 1]}, 1: {'hour': 3, 'prof_list': [1]}}, 'days': [0, 1, 2, 3, 4], 'periods': [0, 1, 2, 3, 4, 5, 6, 7], 'profs': {0: {'availability_list': [[0, 0], [0, 1], [0, 2], [0, 3], [0, 4], [0, 5], [0, 6], [0, 7], [1, 0], [1, 1], [1, 2], [1, 3], [1, 4], [1, 5], [1, 6], [1, 7], [2, 0], [2, 1], [2, 2], [2, 3], [2, 4], [2, 5], [2, 6], [2, 7]]}, 1: {'availability_list': [[3, 0], [3, 1], [3, 2], [3, 3], [3, 4], [3, 5], [3, 6], [3, 7], [4, 0], [4, 1], [4, 2], [4, 3], [4, 4], [4, 5], [4, 6], [4, 7]]}}}\n"
     ]
    }
   ],
   "source": [
    "print(initialized_data)"
   ]
  },
  {
   "cell_type": "code",
   "execution_count": 18,
   "metadata": {},
   "outputs": [],
   "source": [
    "# Fitness function\n",
    "def fitness_function(matrix, data):\n",
    "    stg_checker = {0: [], 1: []}\n",
    "    course_checker = {0: {\"hour\": 0}, 1: {\"hour\": 0}}\n",
    "    prof_checker = {0: [], 1: []}\n",
    "\n",
    "    soft_penalty_counter = 0\n",
    "    hard_penalty_counter = 0\n",
    "    for chromosome in matrix:\n",
    "        stg = chromosome[\"stg\"]\n",
    "        course = chromosome[\"course\"]\n",
    "        prof = chromosome[\"prof\"]\n",
    "        day = chromosome[\"day\"]\n",
    "        period = chromosome[\"period\"]\n",
    "        course_checker[course[0]][\"hour\"] += 1\n",
    "        if course not in data[stg][\"course_list\"]:\n",
    "            hard_penalty_counter += 1\n",
    "\n",
    "\n",
    "        # check for stg_0\n",
    "        if stg == [0]:\n",
    "            # check if course in stg list\n",
    "            if course not in stg_0_course_list:\n",
    "                hard_penalty_counter += 1\n",
    "            # check if prof not in course prof list\n",
    "            if prof[0] not in course_dict[course[0]][\"prof\"]:\n",
    "                hard_penalty_counter += 1\n",
    "            # check for conflicts\n",
    "            # when timeslot is already there teach in two same timeslot\n",
    "            timeslot = day + period\n",
    "            if timeslot not in stg_checker[stg[0]]:\n",
    "                stg_checker[stg[0]].append(timeslot)\n",
    "            else:\n",
    "                hard_penalty_counter += 1\n",
    "            if timeslot not in prof_checker[prof[0]]:\n",
    "                prof_checker[prof[0]].append(timeslot)\n",
    "            else:\n",
    "                hard_penalty_counter += 1\n",
    "        # check for stg_1\n",
    "        if stg == [1]:\n",
    "            # check if course in stg list\n",
    "            if course not in stg_1_course_list:\n",
    "                hard_penalty_counter += 1\n",
    "            # check if prof not in course prof list\n",
    "            if prof[0] not in course_dict[course[0]][\"prof\"]:\n",
    "                print(\"debug\")\n",
    "                hard_penalty_counter += 1\n",
    "            # check for conflicts\n",
    "            # when timeslot is already there teach in two same timeslot\n",
    "            timeslot = day + period\n",
    "            if timeslot not in stg_checker[stg[0]]:\n",
    "                stg_checker[stg[0]].append(timeslot)\n",
    "            else:\n",
    "                hard_penalty_counter += 1\n",
    "            if timeslot not in prof_checker[prof[0]]:\n",
    "                prof_checker[prof[0]].append(timeslot)\n",
    "            else:\n",
    "                hard_penalty_counter += 1\n",
    "    for course_key in course_checker.keys():\n",
    "        if course_checker[course_key][\"hour\"] != course_dict[course_key][\"hour\"]:\n",
    "            hard_penalty_counter += 1\n",
    "    # print(stg_checker)\n",
    "    # print(prof_checker)\n",
    "    print(\"course_checker\", course_checker)\n",
    "    print(\"hard_penalty_counter\", hard_penalty_counter)\n",
    "    result = 1/(1+(soft_penalty_counter + hard_penalty_counter))\n",
    "    return result"
   ]
  },
  {
   "cell_type": "code",
   "execution_count": 39,
   "metadata": {},
   "outputs": [],
   "source": [
    "stgs = [ key for key in initialized_data[\"stgs\"].keys()]\n",
    "courses = [ key for key in initialized_data[\"courses\"].keys()]\n",
    "profs = [key for key in initialized_data[\"profs\"].keys()]\n",
    "days = initialized_data[\"days\"]\n",
    "periods = initialized_data[\"periods\"]"
   ]
  },
  {
   "cell_type": "code",
   "execution_count": 40,
   "metadata": {},
   "outputs": [
    {
     "ename": "TypeError",
     "evalue": "'int' object is not subscriptable",
     "output_type": "error",
     "traceback": [
      "\u001b[0;31m---------------------------------------------------------------------------\u001b[0m",
      "\u001b[0;31mTypeError\u001b[0m                                 Traceback (most recent call last)",
      "Cell \u001b[0;32mIn[40], line 10\u001b[0m\n\u001b[1;32m      8\u001b[0m chromosome_5 \u001b[39m=\u001b[39m {\u001b[39m\"\u001b[39m\u001b[39mstg\u001b[39m\u001b[39m\"\u001b[39m: stgs[\u001b[39m1\u001b[39m], \u001b[39m\"\u001b[39m\u001b[39mcourse\u001b[39m\u001b[39m\"\u001b[39m: courses[\u001b[39m1\u001b[39m], \u001b[39m\"\u001b[39m\u001b[39mprof\u001b[39m\u001b[39m\"\u001b[39m: profs[\u001b[39m1\u001b[39m], \u001b[39m\"\u001b[39m\u001b[39mday\u001b[39m\u001b[39m\"\u001b[39m: days[\u001b[39m1\u001b[39m], \u001b[39m\"\u001b[39m\u001b[39mperiod\u001b[39m\u001b[39m\"\u001b[39m: periods[\u001b[39m2\u001b[39m]}\n\u001b[1;32m      9\u001b[0m individual_0 \u001b[39m=\u001b[39m [chromosome_0, chromosome_1, chromosome_2, chromosome_3, chromosome_4, chromosome_5]\n\u001b[0;32m---> 10\u001b[0m \u001b[39mprint\u001b[39m(fitness_function(individual_0))\n",
      "Cell \u001b[0;32mIn[18], line 15\u001b[0m, in \u001b[0;36mfitness_function\u001b[0;34m(matrix)\u001b[0m\n\u001b[1;32m     13\u001b[0m day \u001b[39m=\u001b[39m chromosome[\u001b[39m\"\u001b[39m\u001b[39mday\u001b[39m\u001b[39m\"\u001b[39m]\n\u001b[1;32m     14\u001b[0m period \u001b[39m=\u001b[39m chromosome[\u001b[39m\"\u001b[39m\u001b[39mperiod\u001b[39m\u001b[39m\"\u001b[39m]\n\u001b[0;32m---> 15\u001b[0m course_checker[course[\u001b[39m0\u001b[39;49m]][\u001b[39m\"\u001b[39m\u001b[39mhour\u001b[39m\u001b[39m\"\u001b[39m] \u001b[39m+\u001b[39m\u001b[39m=\u001b[39m \u001b[39m1\u001b[39m\n\u001b[1;32m     16\u001b[0m \u001b[39m# check for stg_0\u001b[39;00m\n\u001b[1;32m     17\u001b[0m \u001b[39mif\u001b[39;00m stg \u001b[39m==\u001b[39m [\u001b[39m0\u001b[39m]:\n\u001b[1;32m     18\u001b[0m     \u001b[39m# check if course in stg list\u001b[39;00m\n",
      "\u001b[0;31mTypeError\u001b[0m: 'int' object is not subscriptable"
     ]
    }
   ],
   "source": [
    "# Initial individual with fitness value = 1\n",
    "# initialized_data\n",
    "chromosome_0 = {\"stg\": stgs[0], \"course\": courses[0], \"prof\": profs[0], \"day\": days[0], \"period\": periods[0]}\n",
    "chromosome_1 = {\"stg\": stgs[0], \"course\": courses[0], \"prof\": profs[0], \"day\": days[0], \"period\": periods[1]}\n",
    "chromosome_2 = {\"stg\": stgs[0], \"course\": courses[0], \"prof\": profs[0], \"day\": days[0], \"period\": periods[2]}\n",
    "chromosome_3 = {\"stg\": stgs[1], \"course\": courses[1], \"prof\": profs[1], \"day\": days[1], \"period\": periods[0]}\n",
    "chromosome_4 = {\"stg\": stgs[1], \"course\": courses[1], \"prof\": profs[1], \"day\": days[1], \"period\": periods[1]}\n",
    "chromosome_5 = {\"stg\": stgs[1], \"course\": courses[1], \"prof\": profs[1], \"day\": days[1], \"period\": periods[2]}\n",
    "individual_0 = [chromosome_0, chromosome_1, chromosome_2, chromosome_3, chromosome_4, chromosome_5]\n",
    "print(fitness_function(individual_0, initialized_data))"
   ]
  },
  {
   "cell_type": "markdown",
   "metadata": {},
   "source": [
    "# Evolutionary steps"
   ]
  },
  {
   "cell_type": "code",
   "execution_count": 12,
   "metadata": {},
   "outputs": [],
   "source": [
    "# Initial population, consist of a list of chromosomes\n",
    "time_table_0 = stg_0 + course_0 + prof_0 + day_0 + time_0\n",
    "time_table_1 = stg_0 + course_1 + prof_1 + day_0 + time_1\n",
    "time_table_2 = stg_0 + course_2 + prof_2 + day_0 + time_2"
   ]
  },
  {
   "cell_type": "code",
   "execution_count": 13,
   "metadata": {},
   "outputs": [
    {
     "name": "stdout",
     "output_type": "stream",
     "text": [
      "[0, 0, 0, 0, 0, 0, 0, 0, 0, 0, 0, 0, 0, 0, 0, 0]\n",
      "[0, 0, 0, 0, 0, 1, 0, 0, 0, 1, 0, 0, 0, 0, 0, 1]\n",
      "[0, 0, 0, 0, 1, 0, 0, 0, 1, 0, 0, 0, 0, 0, 1, 0]\n"
     ]
    }
   ],
   "source": [
    "print(time_table_0)\n",
    "print(time_table_1)\n",
    "print(time_table_2)"
   ]
  }
 ],
 "metadata": {
  "kernelspec": {
   "display_name": "Python 3.9.0 ('env': venv)",
   "language": "python",
   "name": "python3"
  },
  "language_info": {
   "codemirror_mode": {
    "name": "ipython",
    "version": 3
   },
   "file_extension": ".py",
   "mimetype": "text/x-python",
   "name": "python",
   "nbconvert_exporter": "python",
   "pygments_lexer": "ipython3",
   "version": "3.9.0"
  },
  "orig_nbformat": 4,
  "vscode": {
   "interpreter": {
    "hash": "9d34227c6258f2399ac51b911d717dcb68589774258bfddbd2aa53e1eeedf58e"
   }
  }
 },
 "nbformat": 4,
 "nbformat_minor": 2
}
