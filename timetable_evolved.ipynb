{
 "cells": [
  {
   "cell_type": "markdown",
   "metadata": {},
   "source": [
    "# Hard and soft constraints"
   ]
  },
  {
   "cell_type": "markdown",
   "metadata": {},
   "source": [
    "### Hard constraints\n",
    "These are constraints that must be pursued during the search and without meeting these constraints, the solution is not true. These constraints are:\n",
    "- One teacher cannot give two courses at the same time\n",
    "- A set of students cannot have two classes at the same time\n",
    "- A teacher cannot teach more than maximum allotted hours.\n",
    "- Classes Cannot be on off days (Saturday and Sunday)\n",
    "- Maximum number of hours allotted for a day cannot be exceeded.\n",
    "\n",
    "### Soft constraints\n",
    "These constraints that are not mandatory for a solution must be pursued, but the quality of the courses schedule is decided by following these constraints\n",
    "- In the timetable of teacher, no more than two lectures a day, each one 1 hours and 30 minutes, breaks are preferred 30 minutes or more.\n",
    "- In the students' timetable, we have to put three lectures a day at maximum with 30 minutes breaks between lectures so that they have more time for self-study at home\n",
    "- We must ensure that a group of students does not have to attend school only to attend one class, there has to be a maximum of three classes in a day and a minimum of two classes so that it will be worth it to come to college on a particular day"
   ]
  },
  {
   "cell_type": "markdown",
   "metadata": {},
   "source": [
    "# Initialization"
   ]
  },
  {
   "cell_type": "code",
   "execution_count": 55,
   "metadata": {},
   "outputs": [],
   "source": [
    "def initialize(students, courses, day_times, prof_input):\n",
    "    initialized_data = {}\n",
    "    initialized_data[\"stgs\"] = students\n",
    "    initialized_data[\"courses\"] = courses\n",
    "    initialized_data[\"days\"] = [i for i in range(day_times[\"day\"])]\n",
    "    initialized_data[\"periods\"] = [i for i in range(day_times[\"period\"])]\n",
    "    initialized_data[\"profs\"] = prof_input\n",
    "    return initialized_data"
   ]
  },
  {
   "cell_type": "code",
   "execution_count": 85,
   "metadata": {},
   "outputs": [],
   "source": [
    "# Fitness function\n",
    "def fitness_function(matrix, data):\n",
    "    stgs = [ key for key in data[\"stgs\"].keys()]\n",
    "    courses = [ key for key in data[\"courses\"].keys()]\n",
    "    profs = [key for key in data[\"profs\"].keys()]\n",
    "    stg_checker = {}\n",
    "    course_checker = {}\n",
    "    prof_checker = {}\n",
    "    for stg in stgs:\n",
    "        stg_checker[stg] = []\n",
    "    for prof in profs:\n",
    "        prof_checker[prof] = []\n",
    "    for course in courses:\n",
    "        course_checker[course] = 0\n",
    "\n",
    "    # Check for hard constraints\n",
    "    hard_penalty_counter = 0\n",
    "    for chromosome in matrix:\n",
    "        stg = chromosome[\"stg\"]\n",
    "        course = chromosome[\"course\"]\n",
    "        prof = chromosome[\"prof\"]\n",
    "        day = chromosome[\"day\"]\n",
    "        period = chromosome[\"period\"]\n",
    "        course_checker[course] += 1\n",
    "        if course not in data[\"stgs\"][stg][\"course_list\"]:\n",
    "            # student group doesn't learn the course\n",
    "            hard_penalty_counter += 1\n",
    "        if prof not in data[\"courses\"][course][\"prof_list\"]:\n",
    "            # prof doesn't teach\n",
    "            hard_penalty_counter += 1\n",
    "        timeslot = [day, period]\n",
    "        if timeslot not in stg_checker[stg]:\n",
    "            stg_checker[stg].append(timeslot)\n",
    "        else:\n",
    "            # conflict\n",
    "            hard_penalty_counter += 1\n",
    "        if timeslot not in prof_checker[prof]:\n",
    "            prof_checker[prof].append(timeslot)\n",
    "        else:\n",
    "            # conflict\n",
    "            hard_penalty_counter += 1\n",
    "        if timeslot not in data[\"profs\"][prof][\"availability_list\"]:\n",
    "            # prof not available\n",
    "            # print(\"unavailable\")\n",
    "            hard_penalty_counter += 1\n",
    "    for course_key in course_checker.keys():\n",
    "        if course_checker[course_key] != data[\"courses\"][course][\"hour\"]:\n",
    "            # Number of weekly hours not equal\n",
    "            # print(\"weekly hour limit\")\n",
    "            hard_penalty_counter += 1\n",
    "    \n",
    "    # Check for soft constraints\n",
    "    soft_penalty_counter = 0\n",
    "\n",
    "    # print(\"stg\", stg_checker)\n",
    "    # print(\"prof\", prof_checker)\n",
    "    # print(\"course_checker\", course_checker)\n",
    "    # print(\"hard_penalty_counter\", hard_penalty_counter)\n",
    "    result = 1/(1+(soft_penalty_counter + hard_penalty_counter))\n",
    "    return result"
   ]
  },
  {
   "cell_type": "code",
   "execution_count": 59,
   "metadata": {},
   "outputs": [
    {
     "name": "stdout",
     "output_type": "stream",
     "text": [
      "{'stgs': {0: {'hour': 3, 'course_list': [0, 1]}, 1: {'hour': 3, 'course_list': [1]}}, 'courses': {0: {'hour': 3, 'prof_list': [0, 1]}, 1: {'hour': 3, 'prof_list': [1]}}, 'days': [0, 1, 2, 3, 4], 'periods': [0, 1, 2, 3, 4, 5, 6, 7], 'profs': {0: {'availability_list': [[0, 0], [0, 1], [0, 2], [0, 3], [0, 4], [0, 5], [0, 6], [0, 7], [1, 0], [1, 1], [1, 2], [1, 3], [1, 4], [1, 5], [1, 6], [1, 7], [2, 0], [2, 1], [2, 2], [2, 3], [2, 4], [2, 5], [2, 6], [2, 7]]}, 1: {'availability_list': [[3, 0], [3, 1], [3, 2], [3, 3], [3, 4], [3, 5], [3, 6], [3, 7], [4, 0], [4, 1], [4, 2], [4, 3], [4, 4], [4, 5], [4, 6], [4, 7]]}}}\n"
     ]
    }
   ],
   "source": [
    "# Code for initialization based on input\n",
    "# Number of population = number student group weekly hours\n",
    "student_input = {0: {\"hour\": 3, \"course_list\": [0, 1]}, 1: {\"hour\": 3, \"course_list\": [1]}}\n",
    "course_input = {0: {\"hour\": 3, \"prof_list\": [0, 1]}, 1: {\"hour\": 3, \"prof_list\": [1]}}\n",
    "day_time_availability = {\"day\": 5, \"period\": 8}\n",
    "# [[day, period]]\n",
    "prof_input = {0: {\"availability_list\": [[0,0], [0,1], [0,2], [0,3], [0,4], [0,5], [0,6], [0,7],[1,0], [1,1], [1,2], [1,3], [1,4], [1,5], [1,6], [1,7],[2,0], [2,1], [2,2], [2,3], [2,4], [2,5], [2,6], [2,7] ]},\n",
    "1: {\"availability_list\": [[3,0], [3,1], [3,2], [3,3], [3,4], [3,5], [3,6], [3,7],[4,0], [4,1], [4,2], [4,3], [4,4], [4,5], [4,6], [4,7]]}}\n",
    "initialized_data = initialize(student_input, course_input, day_time_availability, prof_input)\n",
    "print(initialized_data)"
   ]
  },
  {
   "cell_type": "code",
   "execution_count": 39,
   "metadata": {},
   "outputs": [],
   "source": [
    "stgs = [ key for key in initialized_data[\"stgs\"].keys()]\n",
    "courses = [ key for key in initialized_data[\"courses\"].keys()]\n",
    "profs = [key for key in initialized_data[\"profs\"].keys()]\n",
    "days = initialized_data[\"days\"]\n",
    "periods = initialized_data[\"periods\"]"
   ]
  },
  {
   "cell_type": "code",
   "execution_count": 74,
   "metadata": {},
   "outputs": [
    {
     "name": "stdout",
     "output_type": "stream",
     "text": [
      "1.0\n"
     ]
    }
   ],
   "source": [
    "# Initial individual with fitness value = 1\n",
    "# one of possible solutions: \n",
    "chromosome_0 = {\"stg\": stgs[0], \"course\": courses[0], \"prof\": profs[0], \"day\": days[0], \"period\": periods[0]}\n",
    "chromosome_1 = {\"stg\": stgs[0], \"course\": courses[0], \"prof\": profs[0], \"day\": days[0], \"period\": periods[1]}\n",
    "chromosome_2 = {\"stg\": stgs[0], \"course\": courses[0], \"prof\": profs[0], \"day\": days[0], \"period\": periods[2]}\n",
    "chromosome_3 = {\"stg\": stgs[1], \"course\": courses[1], \"prof\": profs[1], \"day\": days[3], \"period\": periods[0]}\n",
    "chromosome_4 = {\"stg\": stgs[1], \"course\": courses[1], \"prof\": profs[1], \"day\": days[3], \"period\": periods[1]}\n",
    "chromosome_5 = {\"stg\": stgs[1], \"course\": courses[1], \"prof\": profs[1], \"day\": days[3], \"period\": periods[2]}\n",
    "individual_0 = [chromosome_0, chromosome_1, chromosome_2, chromosome_3, chromosome_4, chromosome_5]\n",
    "print(fitness_function(individual_0, initialized_data))"
   ]
  },
  {
   "cell_type": "code",
   "execution_count": 65,
   "metadata": {},
   "outputs": [],
   "source": [
    "import numpy as np\n",
    "from numpy import random\n",
    "# Automating population generation\n",
    "# TODO: maybe set the stg as random as well\n",
    "def generate_population(n, input_data):\n",
    "    stgs = [ key for key in input_data[\"stgs\"].keys()]\n",
    "    courses = [ key for key in input_data[\"courses\"].keys()]\n",
    "    profs = [key for key in input_data[\"profs\"].keys()]\n",
    "    days = input_data[\"days\"]\n",
    "    periods = input_data[\"periods\"]\n",
    "    \n",
    "    population = []\n",
    "    for _ in range(n):\n",
    "        cur_individual = []\n",
    "        for stg in stgs:\n",
    "            for _ in range(input_data[\"stgs\"][stg][\"hour\"]):\n",
    "                course = random.randint(len(courses))\n",
    "                prof = random.randint(len(profs))\n",
    "                day = random.randint(len(days))\n",
    "                period = random.randint(len(periods))\n",
    "                cur_chromosome = {\"stg\": stg, \"course\": course, \"prof\": prof,\n",
    "                \"day\": day, \"period\": period}\n",
    "                cur_individual.append(cur_chromosome)\n",
    "        population.append(cur_individual)\n",
    "    return population"
   ]
  },
  {
   "cell_type": "code",
   "execution_count": 315,
   "metadata": {},
   "outputs": [],
   "source": [
    "def tournament_selection(population_fit):\n",
    "    candidate_1 = random.randint(len(population_fit))\n",
    "    candidate_2 = random.randint(len(population_fit))\n",
    "    while candidate_1 == candidate_2:\n",
    "        candidate_2 = random.randint(len(population_fit))\n",
    "    if population_fit[candidate_1] > population_fit[candidate_2]:\n",
    "        return candidate_1\n",
    "    else:\n",
    "        return candidate_2"
   ]
  },
  {
   "cell_type": "code",
   "execution_count": 330,
   "metadata": {},
   "outputs": [],
   "source": [
    "def one_point_crossover(parent_1, parent_2, crossover_rate=0.9):\n",
    "    crossover_point = random.randint(1, len(parent_1))\n",
    "    child_1 = parent_1.copy()\n",
    "    child_2 = parent_2.copy()\n",
    "    if (random.random() < crossover_rate):\n",
    "        child_1[crossover_point:] = parent_2[crossover_point:]\n",
    "        child_2[crossover_point:] = parent_1[crossover_point:]\n",
    "    return child_1, child_2"
   ]
  },
  {
   "cell_type": "code",
   "execution_count": 345,
   "metadata": {},
   "outputs": [],
   "source": [
    "# Mutation by Random resetting\n",
    "def mutation(individual, input_data, mutation_rate=0.05):\n",
    "    courses = [ key for key in input_data[\"courses\"].keys()]\n",
    "    profs = [key for key in input_data[\"profs\"].keys()]\n",
    "    days = input_data[\"days\"]\n",
    "    periods = input_data[\"periods\"]\n",
    "    mutate_index = random.randint(len(individual))\n",
    "    mutation_prob = random.random()\n",
    "    if (mutation_prob < mutation_rate):\n",
    "        mutate_attr = random.randint(1,5)\n",
    "        if mutate_attr == 1:\n",
    "            individual[mutate_index][\"course\"] = random.randint(len(courses))\n",
    "        if mutate_attr == 2:\n",
    "            individual[mutate_index][\"prof\"] = random.randint(len(profs))\n",
    "        if mutate_attr == 3:\n",
    "            individual[mutate_index][\"day\"] = random.randint(len(days))\n",
    "        if mutate_attr == 4:\n",
    "            individual[mutate_index][\"period\"] = random.randint(len(periods))\n",
    "    return individual"
   ]
  },
  {
   "cell_type": "code",
   "execution_count": 346,
   "metadata": {},
   "outputs": [
    {
     "name": "stdout",
     "output_type": "stream",
     "text": [
      "0.11910653235653236\n"
     ]
    }
   ],
   "source": [
    "population_num = 100\n",
    "initial_population = generate_population(population_num, initialized_data)\n",
    "# print(population)\n",
    "initial_fitness_value = []\n",
    "for idx in range(len(initial_population)):\n",
    "    fitness_value = fitness_function(initial_population[idx], initialized_data)\n",
    "    initial_fitness_value.append(fitness_value)\n",
    "print(np.mean(initial_fitness_value))"
   ]
  },
  {
   "cell_type": "code",
   "execution_count": 353,
   "metadata": {},
   "outputs": [
    {
     "name": "stdout",
     "output_type": "stream",
     "text": [
      "0.11373434898434898\n",
      "0.125\n",
      "0.09999999999999998\n",
      "0.125\n",
      "0.08333333333333336\n",
      "0.1428571428571428\n",
      "0.09090909090909095\n",
      "0.09999999999999998\n",
      "0.09999999999999998\n",
      "0.1666666666666667\n",
      "0.19999999999999996\n",
      "0.09090909090909095\n",
      "0.08333333333333336\n",
      "0.125\n",
      "0.1428571428571428\n",
      "0.09999999999999998\n",
      "0.125\n",
      "0.125\n",
      "0.09999999999999998\n",
      "0.125\n",
      "0.09999999999999998\n",
      "0.11111111111111112\n",
      "0.09999999999999998\n",
      "0.11111111111111112\n",
      "0.11111111111111112\n",
      "0.1428571428571428\n",
      "0.1428571428571428\n",
      "0.11111111111111112\n",
      "0.125\n",
      "0.08333333333333336\n",
      "0.11111111111111112\n",
      "0.09090909090909095\n",
      "0.11111111111111112\n",
      "0.1428571428571428\n",
      "0.09999999999999998\n",
      "0.09090909090909095\n",
      "0.125\n",
      "0.11111111111111112\n",
      "0.09999999999999998\n",
      "0.0769230769230769\n",
      "0.09999999999999998\n",
      "0.11111111111111112\n",
      "0.125\n",
      "0.11111111111111112\n",
      "0.11111111111111112\n",
      "0.09999999999999998\n",
      "0.19999999999999996\n",
      "0.08333333333333336\n",
      "0.11111111111111112\n",
      "0.125\n",
      "0.09999999999999998\n",
      "0.1666666666666667\n",
      "0.09999999999999998\n",
      "0.1428571428571428\n",
      "0.1666666666666667\n",
      "0.11111111111111112\n",
      "0.09999999999999998\n",
      "0.1666666666666667\n",
      "0.09999999999999998\n",
      "0.09999999999999998\n",
      "0.11111111111111112\n",
      "0.125\n",
      "0.1428571428571428\n",
      "0.11111111111111112\n",
      "0.1428571428571428\n",
      "0.1428571428571428\n",
      "0.19999999999999996\n",
      "0.1428571428571428\n",
      "0.125\n",
      "0.1428571428571428\n",
      "0.09090909090909095\n",
      "0.09999999999999998\n",
      "0.125\n",
      "0.11111111111111112\n",
      "0.1428571428571428\n",
      "0.1428571428571428\n",
      "0.11111111111111112\n",
      "0.125\n",
      "0.09090909090909095\n",
      "SOLUTION! [{'stg': 0, 'course': 0, 'prof': 1, 'day': 3, 'period': 2}, {'stg': 0, 'course': 0, 'prof': 1, 'day': 3, 'period': 0}, {'stg': 0, 'course': 0, 'prof': 0, 'day': 0, 'period': 7}, {'stg': 1, 'course': 1, 'prof': 1, 'day': 3, 'period': 4}, {'stg': 1, 'course': 1, 'prof': 1, 'day': 4, 'period': 2}, {'stg': 1, 'course': 1, 'prof': 1, 'day': 4, 'period': 0}]\n"
     ]
    }
   ],
   "source": [
    "counter = 0\n",
    "current_fitness_values = initial_fitness_value\n",
    "current_population = initial_population\n",
    "while True:\n",
    "    if counter == 100000:\n",
    "        break\n",
    "    gen_1 = []\n",
    "    for i in range(population_num//2):\n",
    "        parent_1_idx = tournament_selection(current_fitness_values)\n",
    "        parent_2_idx = tournament_selection(current_fitness_values)\n",
    "        parent_1 = current_population[parent_1_idx]\n",
    "        parent_2 = current_population[parent_2_idx]\n",
    "        child_1, child_2 = one_point_crossover(parent_1, parent_2)\n",
    "        mutated_1 = mutation(child_1, initialized_data)\n",
    "        mutated_2 = mutation(child_2, initialized_data)\n",
    "        gen_1.append(mutated_1)\n",
    "        gen_1.append(mutated_2)\n",
    "    gen_1_fitness_values= []\n",
    "    for idx in range(len(gen_1)):\n",
    "        fitness_value = fitness_function(gen_1[idx], initialized_data)\n",
    "        gen_1_fitness_values.append(fitness_value)\n",
    "    if counter % 1000 == 0:\n",
    "        print(np.mean(gen_1_fitness_values))\n",
    "    if 1 in gen_1_fitness_values:\n",
    "        print(\"SOLUTION!\", gen_1[idx])\n",
    "        break\n",
    "    current_fitness_values = gen_1_fitness_values\n",
    "    current_population = gen_1\n",
    "    counter += 1"
   ]
  },
  {
   "cell_type": "markdown",
   "metadata": {},
   "source": [
    "# Evolutionary steps"
   ]
  },
  {
   "cell_type": "code",
   "execution_count": 12,
   "metadata": {},
   "outputs": [],
   "source": [
    "# Initial population, consist of a list of chromosomes\n",
    "time_table_0 = stg_0 + course_0 + prof_0 + day_0 + time_0\n",
    "time_table_1 = stg_0 + course_1 + prof_1 + day_0 + time_1\n",
    "time_table_2 = stg_0 + course_2 + prof_2 + day_0 + time_2"
   ]
  },
  {
   "cell_type": "code",
   "execution_count": 13,
   "metadata": {},
   "outputs": [
    {
     "name": "stdout",
     "output_type": "stream",
     "text": [
      "[0, 0, 0, 0, 0, 0, 0, 0, 0, 0, 0, 0, 0, 0, 0, 0]\n",
      "[0, 0, 0, 0, 0, 1, 0, 0, 0, 1, 0, 0, 0, 0, 0, 1]\n",
      "[0, 0, 0, 0, 1, 0, 0, 0, 1, 0, 0, 0, 0, 0, 1, 0]\n"
     ]
    }
   ],
   "source": [
    "print(time_table_0)\n",
    "print(time_table_1)\n",
    "print(time_table_2)"
   ]
  }
 ],
 "metadata": {
  "kernelspec": {
   "display_name": "Python 3.9.0 ('env': venv)",
   "language": "python",
   "name": "python3"
  },
  "language_info": {
   "codemirror_mode": {
    "name": "ipython",
    "version": 3
   },
   "file_extension": ".py",
   "mimetype": "text/x-python",
   "name": "python",
   "nbconvert_exporter": "python",
   "pygments_lexer": "ipython3",
   "version": "3.9.0"
  },
  "orig_nbformat": 4,
  "vscode": {
   "interpreter": {
    "hash": "9d34227c6258f2399ac51b911d717dcb68589774258bfddbd2aa53e1eeedf58e"
   }
  }
 },
 "nbformat": 4,
 "nbformat_minor": 2
}
